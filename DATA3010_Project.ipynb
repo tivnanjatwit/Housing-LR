{
  "cells": [
    {
      "cell_type": "markdown",
      "metadata": {
        "id": "OmidHrHpIA7S"
      },
      "source": [
        "# Import's & Dataloaders"
      ]
    },
    {
      "cell_type": "code",
      "execution_count": null,
      "metadata": {
        "id": "H04YNHYeioiH"
      },
      "outputs": [],
      "source": [
        "import pandas as pd\n",
        "\n",
        "marketData = pd.read_csv(\"Data\\massachusetts_market_data.csv\", sep='\\t')\n",
        "\n",
        "Crime2024 = pd.read_csv(\"Data\\Number of Crimes by Offense Type_2024.csv\", sep='\\t')\n",
        "Crime2023 = pd.read_csv(\"Data\\Number of Crimes by Offense Type_2023.csv\", sep='\\t')\n",
        "Crime2022 = pd.read_csv(\"Data\\Number of Crimes by Offense Type_2022.csv\", sep='\\t')\n",
        "Crime2021 = pd.read_csv(\"Data\\Number of Crimes by Offense Type_2021.csv\", sep='\\t')\n",
        "Crime2020 = pd.read_csv(\"Data\\Number of Crimes by Offense Type_2020.csv\", sep='\\t')\n",
        "Crime2019 = pd.read_csv(\"Data\\Number of Crimes by Offense Type_2019.csv\", sep='\\t')\n",
        "Crime2018 = pd.read_csv(\"Data\\Number of Crimes by Offense Type_2018.csv\", sep='\\t')\n",
        "Crime2017 = pd.read_csv(\"Data\\Number of Crimes by Offense Type_2017.csv\", sep='\\t')\n",
        "Crime2016 = pd.read_csv(\"Data\\Number of Crimes by Offense Type_2016.csv\", sep='\\t')\n",
        "Crime2015 = pd.read_csv(\"Data\\Number of Crimes by Offense Type_2015.csv\", sep='\\t')"
      ]
    },
    {
      "cell_type": "code",
      "execution_count": null,
      "metadata": {
        "id": "gIliq0gOoS27"
      },
      "outputs": [],
      "source": [
        "data = pd.read_csv(\"/content/drive/MyDrive/Housing-LR/city_market_tracker.tsv000\")\n",
        "data"
      ]
    },
    {
      "cell_type": "markdown",
      "metadata": {
        "id": "T6bvyQbGlHQt"
      },
      "source": [
        "# David Arzumanyan"
      ]
    },
    {
      "cell_type": "code",
      "execution_count": null,
      "metadata": {
        "id": "MF3urxEPlJRp"
      },
      "outputs": [],
      "source": []
    },
    {
      "cell_type": "markdown",
      "metadata": {
        "id": "iaor0MrIlNAN"
      },
      "source": [
        "# Joe Tivnan"
      ]
    },
    {
      "cell_type": "code",
      "execution_count": null,
      "metadata": {
        "id": "QbXzTGjcldfq"
      },
      "outputs": [],
      "source": [
        "massachusetts_market_data = marketData[marketData['STATE'] == 'Massachusetts']\n",
        "#massachusetts_market_data.to_csv(\"/content/drive/MyDrive/Housing-LR/massachusetts_market_data.csv\", index=False)\n",
        "display(massachusetts_market_data)"
      ]
    },
    {
      "cell_type": "markdown",
      "metadata": {
        "id": "z1xeaLQOlNdo"
      },
      "source": [
        "# Patrick Keufack"
      ]
    },
    {
      "cell_type": "code",
      "execution_count": null,
      "metadata": {
        "id": "7HNCA7psleDV"
      },
      "outputs": [],
      "source": [
        "print(\"Hello World!\")"
      ]
    },
    {
      "cell_type": "markdown",
      "metadata": {
        "id": "W-YLUpfvlaWk"
      },
      "source": [
        "# Victor"
      ]
    },
    {
      "cell_type": "code",
      "execution_count": null,
      "metadata": {
        "id": "yL4n9e_ilbCi"
      },
      "outputs": [],
      "source": [
        "print(\"Sociedade Esportiva Palmeiras\")"
      ]
    }
  ],
  "metadata": {
    "accelerator": "GPU",
    "colab": {
      "gpuType": "T4",
      "provenance": []
    },
    "kernelspec": {
      "display_name": "Python 3",
      "name": "python3"
    },
    "language_info": {
      "name": "python"
    }
  },
  "nbformat": 4,
  "nbformat_minor": 0
}
