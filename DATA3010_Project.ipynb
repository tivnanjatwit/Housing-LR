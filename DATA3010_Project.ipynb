{
  "cells": [
    {
      "cell_type": "markdown",
      "metadata": {
        "id": "OmidHrHpIA7S"
      },
      "source": [
        "# Import's & Dataloaders"
      ]
    },
    {
      "cell_type": "code",
      "execution_count": null,
      "metadata": {
        "id": "H04YNHYeioiH"
      },
      "outputs": [],
      "source": [
        "import pandas as pd\n",
        "\n",
        "marketData = pd.read_csv(\"Data\\\\massachusetts_market_data.csv\")\n",
        "\n",
        "Crime2024 = pd.read_csv(\"Data\\\\Number of Crimes by Offense Type_2024.csv\", sep='\\t')\n",
        "Crime2023 = pd.read_csv(\"Data\\\\Number of Crimes by Offense Type_2023.csv\", sep='\\t')\n",
        "Crime2022 = pd.read_csv(\"Data\\\\Number of Crimes by Offense Type_2022.csv\", sep='\\t')\n",
        "Crime2021 = pd.read_csv(\"Data\\\\Number of Crimes by Offense Type_2021.csv\", sep='\\t')\n",
        "Crime2020 = pd.read_csv(\"Data\\\\Number of Crimes by Offense Type_2020.csv\", sep='\\t')\n",
        "Crime2019 = pd.read_csv(\"Data\\\\Number of Crimes by Offense Type_2019.csv\", sep='\\t')\n",
        "Crime2018 = pd.read_csv(\"Data\\\\Number of Crimes by Offense Type_2018.csv\", sep='\\t')\n",
        "Crime2017 = pd.read_csv(\"Data\\\\Number of Crimes by Offense Type_2017.csv\", sep='\\t')\n",
        "Crime2016 = pd.read_csv(\"Data\\\\Number of Crimes by Offense Type_2016.csv\", sep='\\t')\n",
        "Crime2015 = pd.read_csv(\"Data\\\\Number of Crimes by Offense Type_2015.csv\", sep='\\t')"
      ]
    },
    {
      "cell_type": "code",
      "execution_count": null,
      "metadata": {
        "id": "gIliq0gOoS27"
      },
      "outputs": [],
      "source": [
        "data = pd.read_csv(\"/content/drive/MyDrive/Housing-LR/city_market_tracker.tsv000\")\n",
        "data"
      ]
    },
    {
      "cell_type": "markdown",
      "metadata": {
        "id": "T6bvyQbGlHQt"
      },
      "source": [
        "# David Arzumanyan"
      ]
    },
    {
      "cell_type": "code",
      "execution_count": null,
      "metadata": {
        "id": "MF3urxEPlJRp"
      },
      "outputs": [],
      "source": []
    },
    {
      "cell_type": "markdown",
      "metadata": {
        "id": "iaor0MrIlNAN"
      },
      "source": [
        "# Joe Tivnan"
      ]
    },
    {
      "cell_type": "code",
      "execution_count": 20,
      "metadata": {},
      "outputs": [
        {
          "name": "stdout",
          "output_type": "stream",
          "text": [
            "Index(['PERIOD_BEGIN', 'PERIOD_END', 'PERIOD_DURATION', 'REGION_TYPE',\n",
            "       'REGION_TYPE_ID', 'TABLE_ID', 'IS_SEASONALLY_ADJUSTED', 'REGION',\n",
            "       'CITY', 'STATE', 'STATE_CODE', 'PROPERTY_TYPE', 'PROPERTY_TYPE_ID',\n",
            "       'MEDIAN_SALE_PRICE', 'MEDIAN_SALE_PRICE_MOM', 'MEDIAN_SALE_PRICE_YOY',\n",
            "       'MEDIAN_LIST_PRICE', 'MEDIAN_LIST_PRICE_MOM', 'MEDIAN_LIST_PRICE_YOY',\n",
            "       'MEDIAN_PPSF', 'MEDIAN_PPSF_MOM', 'MEDIAN_PPSF_YOY', 'MEDIAN_LIST_PPSF',\n",
            "       'MEDIAN_LIST_PPSF_MOM', 'MEDIAN_LIST_PPSF_YOY', 'HOMES_SOLD',\n",
            "       'HOMES_SOLD_MOM', 'HOMES_SOLD_YOY', 'PENDING_SALES',\n",
            "       'PENDING_SALES_MOM', 'PENDING_SALES_YOY', 'NEW_LISTINGS',\n",
            "       'NEW_LISTINGS_MOM', 'NEW_LISTINGS_YOY', 'INVENTORY', 'INVENTORY_MOM',\n",
            "       'INVENTORY_YOY', 'MONTHS_OF_SUPPLY', 'MONTHS_OF_SUPPLY_MOM',\n",
            "       'MONTHS_OF_SUPPLY_YOY', 'MEDIAN_DOM', 'MEDIAN_DOM_MOM',\n",
            "       'MEDIAN_DOM_YOY', 'AVG_SALE_TO_LIST', 'AVG_SALE_TO_LIST_MOM',\n",
            "       'AVG_SALE_TO_LIST_YOY', 'SOLD_ABOVE_LIST', 'SOLD_ABOVE_LIST_MOM',\n",
            "       'SOLD_ABOVE_LIST_YOY', 'PRICE_DROPS', 'PRICE_DROPS_MOM',\n",
            "       'PRICE_DROPS_YOY', 'OFF_MARKET_IN_TWO_WEEKS',\n",
            "       'OFF_MARKET_IN_TWO_WEEKS_MOM', 'OFF_MARKET_IN_TWO_WEEKS_YOY',\n",
            "       'PARENT_METRO_REGION', 'PARENT_METRO_REGION_METRO_CODE',\n",
            "       'LAST_UPDATED'],\n",
            "      dtype='object')\n"
          ]
        }
      ],
      "source": [
        "print(marketData.columns)"
      ]
    },
    {
      "cell_type": "code",
      "execution_count": 25,
      "metadata": {
        "id": "QbXzTGjcldfq"
      },
      "outputs": [],
      "source": [
        "\n",
        "# take the merketData and remove the 'IS_SEASONALLY_ADJUSTED' column\n",
        "slim_marketData = marketData.drop(columns=['IS_SEASONALLY_ADJUSTED',\n",
        "                                           'OFF_MARKET_IN_TWO_WEEKS',\n",
        "                                           'OFF_MARKET_IN_TWO_WEEKS_MOM',\n",
        "                                           'OFF_MARKET_IN_TWO_WEEKS_YOY',\n",
        "                                           'MEDIAN_SALE_PRICE',\n",
        "                                           'MEDIAN_SALE_PRICE_MOM',\n",
        "                                           'MEDIAN_SALE_PRICE_YOY',\n",
        "                                           'LAST_UPDATED'])\n",
        "\n",
        "\n",
        "# download the slim_marketData\n",
        "slim_marketData.to_csv(\"Data/slim_massachusetts_market_data.csv\", index=False)"
      ]
    },
    {
      "cell_type": "markdown",
      "metadata": {
        "id": "z1xeaLQOlNdo"
      },
      "source": [
        "# Patrick Keufack"
      ]
    },
    {
      "cell_type": "code",
      "execution_count": null,
      "metadata": {
        "id": "7HNCA7psleDV"
      },
      "outputs": [],
      "source": [
        "print(\"Hello World!\")"
      ]
    },
    {
      "cell_type": "markdown",
      "metadata": {
        "id": "W-YLUpfvlaWk"
      },
      "source": [
        "# Victor"
      ]
    },
    {
      "cell_type": "code",
      "execution_count": null,
      "metadata": {
        "id": "yL4n9e_ilbCi"
      },
      "outputs": [],
      "source": [
        "print(\"Sociedade Esportiva Palmeiras\")"
      ]
    }
  ],
  "metadata": {
    "accelerator": "GPU",
    "colab": {
      "gpuType": "T4",
      "provenance": []
    },
    "kernelspec": {
      "display_name": "Python 3",
      "name": "python3"
    },
    "language_info": {
      "codemirror_mode": {
        "name": "ipython",
        "version": 3
      },
      "file_extension": ".py",
      "mimetype": "text/x-python",
      "name": "python",
      "nbconvert_exporter": "python",
      "pygments_lexer": "ipython3",
      "version": "3.11.9"
    }
  },
  "nbformat": 4,
  "nbformat_minor": 0
}
