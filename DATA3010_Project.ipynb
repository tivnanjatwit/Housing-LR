{
 "cells": [
  {
   "cell_type": "markdown",
   "metadata": {
    "id": "OmidHrHpIA7S"
   },
   "source": [
    "# Import's & Dataloaders"
   ]
  },
  {
   "metadata": {},
   "cell_type": "markdown",
   "source": "#### **Microsoft Windows**"
  },
  {
   "cell_type": "code",
   "metadata": {
    "id": "H04YNHYeioiH"
   },
   "source": [
    "import pandas as pd\n",
    "\n",
    "marketData = pd.read_csv(r\"Data\\\\slim_massachusetts_market_data.csv\")\n",
    "\n",
    "# Skiprows for not reading the reader of the files\n",
    "\n",
    "Crime2024 = pd.read_csv(r\"Data\\\\Number of Crimes by Offense Type_2024.csv\", skiprows=5)\n",
    "Crime2023 = pd.read_csv(r\"Data\\\\Number of Crimes by Offense Type_2023.csv\", skiprows=5)\n",
    "Crime2022 = pd.read_csv(r\"Data\\\\Number of Crimes by Offense Type_2022.csv\", skiprows=5)\n",
    "Crime2021 = pd.read_csv(r\"Data\\\\Number of Crimes by Offense Type_2021.csv\", skiprows=5)\n",
    "Crime2020 = pd.read_csv(r\"Data\\\\Number of Crimes by Offense Type_2020.csv\", skiprows=5)\n",
    "Crime2019 = pd.read_csv(r\"Data\\\\Number of Crimes by Offense Type_2019.csv\", skiprows=5)\n",
    "Crime2017 = pd.read_csv(r\"Data\\\\Number of Crimes by Offense Type_2017.csv\", skiprows=5)\n",
    "Crime2016 = pd.read_csv(r\"Data\\\\Number of Crimes by Offense Type_2016.csv\", skiprows=5)\n",
    "Crime2015 = pd.read_csv(r\"Data\\\\Number of Crimes by Offense Type_2015.csv\", skiprows=5)"
   ],
   "outputs": [],
   "execution_count": null
  },
  {
   "metadata": {},
   "cell_type": "markdown",
   "source": "#### **Apple MacOS**"
  },
  {
   "metadata": {
    "ExecuteTime": {
     "end_time": "2025-10-07T21:59:29.199887Z",
     "start_time": "2025-10-07T21:59:28.468831Z"
    }
   },
   "cell_type": "code",
   "source": [
    "import pandas as pd\n",
    "\n",
    "marketData = pd.read_csv(r\"Data/slim_massachusetts_market_data.csv\")\n",
    "\n",
    "# Skiprows for not reading the reader of the files\n",
    "\n",
    "Crime2024 = pd.read_csv(r\"Data/Number of Crimes by Offense Type_2024.csv\", skiprows=5)\n",
    "Crime2023 = pd.read_csv(r\"Data/Number of Crimes by Offense Type_2023.csv\", skiprows=5)\n",
    "Crime2022 = pd.read_csv(r\"Data/Number of Crimes by Offense Type_2022.csv\", skiprows=5)\n",
    "Crime2021 = pd.read_csv(r\"Data/Number of Crimes by Offense Type_2021.csv\", skiprows=5)\n",
    "Crime2020 = pd.read_csv(r\"Data/Number of Crimes by Offense Type_2020.csv\", skiprows=5)\n",
    "Crime2019 = pd.read_csv(r\"Data/Number of Crimes by Offense Type_2019.csv\", skiprows=5)\n",
    "Crime2018 = pd.read_csv(r\"Data/Number of Crimes by Offense Type_2018.csv\", skiprows=5)\n",
    "Crime2017 = pd.read_csv(r\"Data/Number of Crimes by Offense Type_2017.csv\", skiprows=5)\n",
    "Crime2016 = pd.read_csv(r\"Data/Number of Crimes by Offense Type_2016.csv\", skiprows=5)\n",
    "Crime2015 = pd.read_csv(r\"Data/Number of Crimes by Offense Type_2015.csv\", skiprows=5)"
   ],
   "outputs": [],
   "execution_count": 11
  },
  {
   "cell_type": "markdown",
   "metadata": {
    "id": "T6bvyQbGlHQt"
   },
   "source": [
    "# David Arzumanyan"
   ]
  },
  {
   "cell_type": "code",
   "execution_count": null,
   "metadata": {
    "id": "MF3urxEPlJRp"
   },
   "outputs": [],
   "source": []
  },
  {
   "cell_type": "markdown",
   "metadata": {
    "id": "iaor0MrIlNAN"
   },
   "source": [
    "# Joe Tivnan"
   ]
  },
  {
   "cell_type": "code",
   "execution_count": 20,
   "metadata": {},
   "outputs": [
    {
     "name": "stdout",
     "output_type": "stream",
     "text": [
      "Index(['PERIOD_BEGIN', 'PERIOD_END', 'PERIOD_DURATION', 'REGION_TYPE',\n",
      "       'REGION_TYPE_ID', 'TABLE_ID', 'IS_SEASONALLY_ADJUSTED', 'REGION',\n",
      "       'CITY', 'STATE', 'STATE_CODE', 'PROPERTY_TYPE', 'PROPERTY_TYPE_ID',\n",
      "       'MEDIAN_SALE_PRICE', 'MEDIAN_SALE_PRICE_MOM', 'MEDIAN_SALE_PRICE_YOY',\n",
      "       'MEDIAN_LIST_PRICE', 'MEDIAN_LIST_PRICE_MOM', 'MEDIAN_LIST_PRICE_YOY',\n",
      "       'MEDIAN_PPSF', 'MEDIAN_PPSF_MOM', 'MEDIAN_PPSF_YOY', 'MEDIAN_LIST_PPSF',\n",
      "       'MEDIAN_LIST_PPSF_MOM', 'MEDIAN_LIST_PPSF_YOY', 'HOMES_SOLD',\n",
      "       'HOMES_SOLD_MOM', 'HOMES_SOLD_YOY', 'PENDING_SALES',\n",
      "       'PENDING_SALES_MOM', 'PENDING_SALES_YOY', 'NEW_LISTINGS',\n",
      "       'NEW_LISTINGS_MOM', 'NEW_LISTINGS_YOY', 'INVENTORY', 'INVENTORY_MOM',\n",
      "       'INVENTORY_YOY', 'MONTHS_OF_SUPPLY', 'MONTHS_OF_SUPPLY_MOM',\n",
      "       'MONTHS_OF_SUPPLY_YOY', 'MEDIAN_DOM', 'MEDIAN_DOM_MOM',\n",
      "       'MEDIAN_DOM_YOY', 'AVG_SALE_TO_LIST', 'AVG_SALE_TO_LIST_MOM',\n",
      "       'AVG_SALE_TO_LIST_YOY', 'SOLD_ABOVE_LIST', 'SOLD_ABOVE_LIST_MOM',\n",
      "       'SOLD_ABOVE_LIST_YOY', 'PRICE_DROPS', 'PRICE_DROPS_MOM',\n",
      "       'PRICE_DROPS_YOY', 'OFF_MARKET_IN_TWO_WEEKS',\n",
      "       'OFF_MARKET_IN_TWO_WEEKS_MOM', 'OFF_MARKET_IN_TWO_WEEKS_YOY',\n",
      "       'PARENT_METRO_REGION', 'PARENT_METRO_REGION_METRO_CODE',\n",
      "       'LAST_UPDATED'],\n",
      "      dtype='object')\n"
     ]
    }
   ],
   "source": [
    "print(marketData.columns)"
   ]
  },
  {
   "cell_type": "code",
   "execution_count": 25,
   "metadata": {
    "id": "QbXzTGjcldfq"
   },
   "outputs": [],
   "source": [
    "\n",
    "# take the merketData and remove the 'IS_SEASONALLY_ADJUSTED' column\n",
    "slim_marketData = marketData.drop(columns=['IS_SEASONALLY_ADJUSTED',\n",
    "                                           'OFF_MARKET_IN_TWO_WEEKS',\n",
    "                                           'OFF_MARKET_IN_TWO_WEEKS_MOM',\n",
    "                                           'OFF_MARKET_IN_TWO_WEEKS_YOY',\n",
    "                                           'MEDIAN_SALE_PRICE',\n",
    "                                           'MEDIAN_SALE_PRICE_MOM',\n",
    "                                           'MEDIAN_SALE_PRICE_YOY',\n",
    "                                           'LAST_UPDATED'])\n",
    "\n",
    "\n",
    "# download the slim_marketData\n",
    "slim_marketData.to_csv(\"Data/slim_massachusetts_market_data.csv\", index=False)"
   ]
  },
  {
   "cell_type": "markdown",
   "metadata": {
    "id": "z1xeaLQOlNdo"
   },
   "source": [
    "# Patrick Keufack"
   ]
  },
  {
   "cell_type": "code",
   "execution_count": null,
   "metadata": {
    "id": "7HNCA7psleDV"
   },
   "outputs": [],
   "source": [
    "print(\"Hello World!\")"
   ]
  },
  {
   "cell_type": "markdown",
   "metadata": {
    "id": "W-YLUpfvlaWk"
   },
   "source": [
    "# Victor"
   ]
  },
  {
   "cell_type": "code",
   "metadata": {
    "id": "yL4n9e_ilbCi",
    "ExecuteTime": {
     "end_time": "2025-10-07T21:59:34.044493Z",
     "start_time": "2025-10-07T21:59:34.034295Z"
    }
   },
   "source": [
    "# Check Data\n",
    "\n",
    "print(\"Rows and Columns:\", Crime2024.shape)\n",
    "print(\"\\nColumns:\", Crime2024.columns.tolist())\n",
    "print(\"\\nData Types:\")\n",
    "print(Crime2024.dtypes)\n",
    "print(\"\\nPreview:\")\n",
    "print(Crime2024.head())\n",
    "\n",
    "\n",
    "\n"
   ],
   "outputs": [
    {
     "name": "stdout",
     "output_type": "stream",
     "text": [
      "Rows and Columns: (506, 60)\n",
      "\n",
      "Columns: ['Offense Type', 'All Offense Types', 'Crimes Against Person', 'Murder and Nonnegligent Manslaughter', 'Negligent Manslaughter', 'Justifiable Homicide', 'Kidnapping/Abduction', 'All Rape', 'Rape', 'Sodomy', 'Sexual Assault With An Object', 'Criminal Sexual Contact', 'Incest', 'Statutory Rape', 'Aggravated Assault', 'Simple Assault', 'Intimidation', 'Human Trafficking, Commercial Sex Acts', 'Human Trafficking, Involuntary Servitude', 'Crimes Against Property', 'Arson', 'Bribery', 'Burglary/Breaking & Entering', 'Counterfeiting/Forgery', 'Destruction/Damage/Vandalism of Property', 'Embezzlement', 'Extortion/Blackmail', 'False Pretenses/Swindle/Confidence Game', 'Credit Card/Automatic Teller Fraud', 'Impersonation', 'Welfare Fraud', 'Wire Fraud', 'Identity Theft', 'Hacking/Computer Invasion', 'Robbery', 'Pocket-picking', 'Purse-snatching', 'Shoplifting', 'Theft From Building', 'Theft From Coin Operated Machine or Device', 'Theft From Motor Vehicle', 'Theft of Motor Vehicle Parts/Accessories', 'All Other Larceny', 'Motor Vehicle Theft', 'Stolen Property Offenses', 'Crimes Against Society', 'Drug/Narcotic Violations', 'Drug Equipment Violations', 'Betting/Wagering', 'Operating/Promoting/Assisting Gambling', 'Gambling Equipment Violations', 'Sports Tampering', 'Pornography/Obscene Material', 'Prostitution', 'Assisting or Promoting Prostitution', 'Purchasing Prostitution', 'Weapon Law Violations', 'Animal Cruelty', 'Missing', 'Unnamed: 59']\n",
      "\n",
      "Data Types:\n",
      "Offense Type                                   object\n",
      "All Offense Types                              object\n",
      "Crimes Against Person                          object\n",
      "Murder and Nonnegligent Manslaughter          float64\n",
      "Negligent Manslaughter                        float64\n",
      "Justifiable Homicide                          float64\n",
      "Kidnapping/Abduction                          float64\n",
      "All Rape                                      float64\n",
      "Rape                                          float64\n",
      "Sodomy                                        float64\n",
      "Sexual Assault With An Object                 float64\n",
      "Criminal Sexual Contact                       float64\n",
      "Incest                                        float64\n",
      "Statutory Rape                                float64\n",
      "Aggravated Assault                             object\n",
      "Simple Assault                                 object\n",
      "Intimidation                                   object\n",
      "Human Trafficking, Commercial Sex Acts        float64\n",
      "Human Trafficking, Involuntary Servitude      float64\n",
      "Crimes Against Property                        object\n",
      "Arson                                         float64\n",
      "Bribery                                       float64\n",
      "Burglary/Breaking & Entering                   object\n",
      "Counterfeiting/Forgery                        float64\n",
      "Destruction/Damage/Vandalism of Property       object\n",
      "Embezzlement                                  float64\n",
      "Extortion/Blackmail                           float64\n",
      "False Pretenses/Swindle/Confidence Game        object\n",
      "Credit Card/Automatic Teller Fraud            float64\n",
      "Impersonation                                 float64\n",
      "Welfare Fraud                                 float64\n",
      "Wire Fraud                                    float64\n",
      "Identity Theft                                float64\n",
      "Hacking/Computer Invasion                     float64\n",
      "Robbery                                       float64\n",
      "Pocket-picking                                float64\n",
      "Purse-snatching                               float64\n",
      "Shoplifting                                    object\n",
      "Theft From Building                            object\n",
      "Theft From Coin Operated Machine or Device    float64\n",
      "Theft From Motor Vehicle                       object\n",
      "Theft of Motor Vehicle Parts/Accessories      float64\n",
      "All Other Larceny                              object\n",
      "Motor Vehicle Theft                            object\n",
      "Stolen Property Offenses                      float64\n",
      "Crimes Against Society                         object\n",
      "Drug/Narcotic Violations                       object\n",
      "Drug Equipment Violations                     float64\n",
      "Betting/Wagering                              float64\n",
      "Operating/Promoting/Assisting Gambling        float64\n",
      "Gambling Equipment Violations                 float64\n",
      "Sports Tampering                              float64\n",
      "Pornography/Obscene Material                  float64\n",
      "Prostitution                                  float64\n",
      "Assisting or Promoting Prostitution           float64\n",
      "Purchasing Prostitution                       float64\n",
      "Weapon Law Violations                         float64\n",
      "Animal Cruelty                                float64\n",
      "Missing                                       float64\n",
      "Unnamed: 59                                   float64\n",
      "dtype: object\n",
      "\n",
      "Preview:\n",
      "                         Offense Type All Offense Types Crimes Against Person  \\\n",
      "0           Jurisdiction by Geography               NaN                   NaN   \n",
      "1                          Barnstable             1,634                   614   \n",
      "2             Barnstable State Police                19                     5   \n",
      "3  Barnstable State Police Middleboro               NaN                   NaN   \n",
      "4                              Bourne               848                   343   \n",
      "\n",
      "   Murder and Nonnegligent Manslaughter  Negligent Manslaughter  \\\n",
      "0                                   NaN                     NaN   \n",
      "1                                   1.0                     NaN   \n",
      "2                                   NaN                     1.0   \n",
      "3                                   NaN                     NaN   \n",
      "4                                   NaN                     NaN   \n",
      "\n",
      "   Justifiable Homicide  Kidnapping/Abduction  All Rape  Rape  Sodomy  ...  \\\n",
      "0                   NaN                   NaN       NaN   NaN     NaN  ...   \n",
      "1                   NaN                  10.0      34.0  29.0     1.0  ...   \n",
      "2                   NaN                   NaN       NaN   NaN     NaN  ...   \n",
      "3                   NaN                   NaN       NaN   NaN     NaN  ...   \n",
      "4                   NaN                   1.0      11.0   7.0     1.0  ...   \n",
      "\n",
      "   Gambling Equipment Violations  Sports Tampering  \\\n",
      "0                            NaN               NaN   \n",
      "1                            NaN               NaN   \n",
      "2                            NaN               NaN   \n",
      "3                            NaN               NaN   \n",
      "4                            NaN               NaN   \n",
      "\n",
      "   Pornography/Obscene Material  Prostitution  \\\n",
      "0                           NaN           NaN   \n",
      "1                          13.0           1.0   \n",
      "2                           NaN           NaN   \n",
      "3                           NaN           NaN   \n",
      "4                           8.0           2.0   \n",
      "\n",
      "  Assisting or Promoting Prostitution Purchasing Prostitution  \\\n",
      "0                                 NaN                     NaN   \n",
      "1                                 NaN                     9.0   \n",
      "2                                 NaN                     NaN   \n",
      "3                                 NaN                     NaN   \n",
      "4                                 1.0                     NaN   \n",
      "\n",
      "  Weapon Law Violations  Animal Cruelty  Missing Unnamed: 59  \n",
      "0                   NaN             NaN      NaN         NaN  \n",
      "1                  35.0             NaN      NaN         NaN  \n",
      "2                   3.0             NaN      NaN         NaN  \n",
      "3                   NaN             NaN      NaN         NaN  \n",
      "4                  13.0             NaN      NaN         NaN  \n",
      "\n",
      "[5 rows x 60 columns]\n"
     ]
    }
   ],
   "execution_count": 12
  }
 ],
 "metadata": {
  "accelerator": "GPU",
  "colab": {
   "gpuType": "T4",
   "provenance": []
  },
  "kernelspec": {
   "display_name": "Python 3 (ipykernel)",
   "name": "python3",
   "language": "python"
  },
  "language_info": {
   "codemirror_mode": {
    "name": "ipython",
    "version": 3
   },
   "file_extension": ".py",
   "mimetype": "text/x-python",
   "name": "python",
   "nbconvert_exporter": "python",
   "pygments_lexer": "ipython3",
   "version": "3.11.9"
  }
 },
 "nbformat": 4,
 "nbformat_minor": 0
}
